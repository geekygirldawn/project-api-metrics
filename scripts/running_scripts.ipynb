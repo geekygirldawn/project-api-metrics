{
 "cells": [
  {
   "cell_type": "markdown",
   "id": "6bf81bdd",
   "metadata": {},
   "source": [
    "# Overview\n",
    "\n",
    "This notebook is used to make it easy for someone to run the scripts if they are familiar with Jupyter Notebooks, but less familiar with navigating on the command line.\n",
    "\n",
    "Prerequisite for all scripts:\n",
    "* Python environment with Jupyter Notebook installed.\n",
    "  If you don't already have something, Anaconda is a\n",
    "  popular choice.\n",
    "* Pandas installed (if you are using Anaconda, this is probably included already)\n",
    "* [PyGithub](https://pygithub.readthedocs.io/en/latest/introduction.html) installed:\n",
    "  ```pip install PyGithub```\n",
    "* [GitHub Personal Access Token](https://docs.github.com/en/authentication/keeping-your-account-and-data-secure/creating-a-personal-access-token) created and saved into a file called 'gh_key' in this scripts directory."
   ]
  },
  {
   "cell_type": "markdown",
   "id": "92e6b76c",
   "metadata": {},
   "source": [
    "# repo_activity_coc.py\n",
    "\n",
    "As input, this script requires a file named 'orgs.txt' containing\n",
    "the name of one GitHub org per line residing in the same folder \n",
    "as this script."
   ]
  },
  {
   "cell_type": "code",
   "execution_count": null,
   "id": "53de1338",
   "metadata": {},
   "outputs": [],
   "source": [
    "# Test that your orgs.txt file exists and contains the data you expect\n",
    "f = open('orgs.txt', 'r')\n",
    "print(f.read())"
   ]
  },
  {
   "cell_type": "code",
   "execution_count": null,
   "id": "ab54e818",
   "metadata": {},
   "outputs": [],
   "source": [
    "%run repo_activity_coc.py"
   ]
  }
 ],
 "metadata": {
  "kernelspec": {
   "display_name": "Python 3 (ipykernel)",
   "language": "python",
   "name": "python3"
  },
  "language_info": {
   "codemirror_mode": {
    "name": "ipython",
    "version": 3
   },
   "file_extension": ".py",
   "mimetype": "text/x-python",
   "name": "python",
   "nbconvert_exporter": "python",
   "pygments_lexer": "ipython3",
   "version": "3.10.9"
  }
 },
 "nbformat": 4,
 "nbformat_minor": 5
}
